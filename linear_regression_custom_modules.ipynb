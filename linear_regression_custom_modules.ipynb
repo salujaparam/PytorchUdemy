{
  "nbformat": 4,
  "nbformat_minor": 0,
  "metadata": {
    "colab": {
      "name": "linear_regression_custom_modules.ipynb",
      "version": "0.3.2",
      "provenance": [],
      "collapsed_sections": []
    },
    "kernelspec": {
      "name": "python3",
      "display_name": "Python 3"
    }
  },
  "cells": [
    {
      "cell_type": "code",
      "metadata": {
        "id": "avycgvzk1jKL",
        "colab_type": "code",
        "outputId": "9181e89c-95eb-4695-c0e8-ea7ed02054d8",
        "colab": {
          "base_uri": "https://localhost:8080/",
          "height": 51
        }
      },
      "source": [
        "!pip install torch"
      ],
      "execution_count": 1,
      "outputs": [
        {
          "output_type": "stream",
          "text": [
            "Requirement already satisfied: torch in /usr/local/lib/python3.6/dist-packages (1.1.0)\n",
            "Requirement already satisfied: numpy in /usr/local/lib/python3.6/dist-packages (from torch) (1.16.4)\n"
          ],
          "name": "stdout"
        }
      ]
    },
    {
      "cell_type": "code",
      "metadata": {
        "id": "-lS6dB2x3uaY",
        "colab_type": "code",
        "colab": {}
      },
      "source": [
        "import torch\n",
        "import torch.nn as nn\n",
        "import matplotlib.pyplot as plt\n",
        "import numpy as np"
      ],
      "execution_count": 0,
      "outputs": []
    },
    {
      "cell_type": "code",
      "metadata": {
        "id": "gSolb2f4cSDY",
        "colab_type": "code",
        "colab": {
          "base_uri": "https://localhost:8080/",
          "height": 300
        },
        "outputId": "b8905fee-fc9b-46d5-fac9-00131e1210b4"
      },
      "source": [
        "x = torch.randn(100,1)*10\n",
        "y = x + 3*torch.randn(100,1)\n",
        "plt.plot(x.numpy(), y.numpy(), 'o')\n",
        "plt.ylabel('y')\n",
        "plt.xlabel('x')"
      ],
      "execution_count": 3,
      "outputs": [
        {
          "output_type": "execute_result",
          "data": {
            "text/plain": [
              "Text(0.5, 0, 'x')"
            ]
          },
          "metadata": {
            "tags": []
          },
          "execution_count": 3
        },
        {
          "output_type": "display_data",
          "data": {
            "image/png": "[encoded data removed]",
            "text/plain": [
              "<Figure size 432x288 with 1 Axes>"
            ]
          },
          "metadata": {
            "tags": []
          }
        }
      ]
    },
    {
      "cell_type": "code",
      "metadata": {
        "id": "ZoFQ4L9y1pCV",
        "colab_type": "code",
        "colab": {}
      },
      "source": [
        "class LR(nn.Module):\n",
        "  def __init__(self, input_size, output_size):\n",
        "    super().__init__()\n",
        "    self.linear = nn.Linear(input_size, output_size)\n",
        "    \n",
        "  def forward(self, x):\n",
        "    pred = self.linear(x)\n",
        "    return pred\n",
        "    \n",
        "    "
      ],
      "execution_count": 0,
      "outputs": []
    },
    {
      "cell_type": "code",
      "metadata": {
        "id": "WULDlVzO2s51",
        "colab_type": "code",
        "outputId": "8d354350-9a18-488a-c17f-456d93f4f480",
        "colab": {
          "base_uri": "https://localhost:8080/",
          "height": 68
        }
      },
      "source": [
        "torch.manual_seed(1)\n",
        "model = LR(1, 1)\n",
        "print(model)"
      ],
      "execution_count": 5,
      "outputs": [
        {
          "output_type": "stream",
          "text": [
            "LR(\n",
            "  (linear): Linear(in_features=1, out_features=1, bias=True)\n",
            ")\n"
          ],
          "name": "stdout"
        }
      ]
    },
    {
      "cell_type": "code",
      "metadata": {
        "id": "jC0938mcdhsi",
        "colab_type": "code",
        "colab": {}
      },
      "source": [
        "[w,b] = model.parameters()\n",
        "\n",
        "def get_params():\n",
        "  return (w[0][0].item(), b[0].item())\n"
      ],
      "execution_count": 0,
      "outputs": []
    },
    {
      "cell_type": "code",
      "metadata": {
        "id": "CUFQCJtydwGz",
        "colab_type": "code",
        "colab": {}
      },
      "source": [
        "def plot_fill(title):\n",
        "  plt.tile = title\n",
        "  w1, b1 = get_params()\n",
        "  x1 = np.array([-30, 30])\n",
        "  y1 = w1 * x1 + b1\n",
        "  plt.plot(x1,y1, 'r')\n",
        "  plt.scatter(x,y)\n",
        "  plt.show()\n",
        "  "
      ],
      "execution_count": 0,
      "outputs": []
    },
    {
      "cell_type": "code",
      "metadata": {
        "id": "X4YQqvvXe9dF",
        "colab_type": "code",
        "colab": {
          "base_uri": "https://localhost:8080/",
          "height": 269
        },
        "outputId": "ca62f550-a1e4-4844-830e-197c82dc3631"
      },
      "source": [
        "plot_fill('Initial Model')"
      ],
      "execution_count": 8,
      "outputs": [
        {
          "output_type": "display_data",
          "data": {
            "image/png": "[encoded data removed]",
            "text/plain": [
              "<Figure size 432x288 with 1 Axes>"
            ]
          },
          "metadata": {
            "tags": []
          }
        }
      ]
    },
    {
      "cell_type": "code",
      "metadata": {
        "id": "Kh4E3s05fIlR",
        "colab_type": "code",
        "colab": {}
      },
      "source": [
        "criterion = nn.MSELoss()\n",
        "optimizer = torch.optim.SGD(model.parameters(), lr=0.01)"
      ],
      "execution_count": 0,
      "outputs": []
    },
    {
      "cell_type": "code",
      "metadata": {
        "id": "0tWuMpVZkdkO",
        "colab_type": "code",
        "colab": {
          "base_uri": "https://localhost:8080/",
          "height": 1717
        },
        "outputId": "6cbc55f0-99ef-49f2-d01b-de68c739eec4"
      },
      "source": [
        "epochs = 100\n",
        "losses = []\n",
        "for i in range(epochs):\n",
        "  y_pred = model.forward(x)\n",
        "  loss = criterion(y_pred, y)\n",
        "  \n",
        "  print(\"epoch:\", i, \"loss:\", loss.item())\n",
        "  losses.append(loss)\n",
        "  optimizer.zero_grad()\n",
        "  loss.backward()\n",
        "  optimizer.step()\n",
        "  "
      ],
      "execution_count": 10,
      "outputs": [
        {
          "output_type": "stream",
          "text": [
            "epoch: 0 loss: 30.9742374420166\n",
            "epoch: 1 loss: 23.533031463623047\n",
            "epoch: 2 loss: 18.44768714904785\n",
            "epoch: 3 loss: 14.972344398498535\n",
            "epoch: 4 loss: 12.59725570678711\n",
            "epoch: 5 loss: 10.974079132080078\n",
            "epoch: 6 loss: 9.864749908447266\n",
            "epoch: 7 loss: 9.106583595275879\n",
            "epoch: 8 loss: 8.588395118713379\n",
            "epoch: 9 loss: 8.234213829040527\n",
            "epoch: 10 loss: 7.99211311340332\n",
            "epoch: 11 loss: 7.826610565185547\n",
            "epoch: 12 loss: 7.713455677032471\n",
            "epoch: 13 loss: 7.636077404022217\n",
            "epoch: 14 loss: 7.583150386810303\n",
            "epoch: 15 loss: 7.546934604644775\n",
            "epoch: 16 loss: 7.522140026092529\n",
            "epoch: 17 loss: 7.505153656005859\n",
            "epoch: 18 loss: 7.493504524230957\n",
            "epoch: 19 loss: 7.485504627227783\n",
            "epoch: 20 loss: 7.479999542236328\n",
            "epoch: 21 loss: 7.476201057434082\n",
            "epoch: 22 loss: 7.473570823669434\n",
            "epoch: 23 loss: 7.471739768981934\n",
            "epoch: 24 loss: 7.470456600189209\n",
            "epoch: 25 loss: 7.46954870223999\n",
            "epoch: 26 loss: 7.468898296356201\n",
            "epoch: 27 loss: 7.468425750732422\n",
            "epoch: 28 loss: 7.468074321746826\n",
            "epoch: 29 loss: 7.467808246612549\n",
            "epoch: 30 loss: 7.467601299285889\n",
            "epoch: 31 loss: 7.467435359954834\n",
            "epoch: 32 loss: 7.467298984527588\n",
            "epoch: 33 loss: 7.467182159423828\n",
            "epoch: 34 loss: 7.467081546783447\n",
            "epoch: 35 loss: 7.466991424560547\n",
            "epoch: 36 loss: 7.466910362243652\n",
            "epoch: 37 loss: 7.4668354988098145\n",
            "epoch: 38 loss: 7.466765880584717\n",
            "epoch: 39 loss: 7.466700553894043\n",
            "epoch: 40 loss: 7.466639041900635\n",
            "epoch: 41 loss: 7.466580390930176\n",
            "epoch: 42 loss: 7.466524124145508\n",
            "epoch: 43 loss: 7.466471195220947\n",
            "epoch: 44 loss: 7.466419696807861\n",
            "epoch: 45 loss: 7.466371059417725\n",
            "epoch: 46 loss: 7.466324329376221\n",
            "epoch: 47 loss: 7.466279029846191\n",
            "epoch: 48 loss: 7.466236114501953\n",
            "epoch: 49 loss: 7.4661946296691895\n",
            "epoch: 50 loss: 7.4661545753479\n",
            "epoch: 51 loss: 7.466116428375244\n",
            "epoch: 52 loss: 7.4660797119140625\n",
            "epoch: 53 loss: 7.4660444259643555\n",
            "epoch: 54 loss: 7.466010570526123\n",
            "epoch: 55 loss: 7.465977191925049\n",
            "epoch: 56 loss: 7.465946197509766\n",
            "epoch: 57 loss: 7.465915679931641\n",
            "epoch: 58 loss: 7.465887546539307\n",
            "epoch: 59 loss: 7.465859413146973\n",
            "epoch: 60 loss: 7.465832233428955\n",
            "epoch: 61 loss: 7.465806484222412\n",
            "epoch: 62 loss: 7.465782642364502\n",
            "epoch: 63 loss: 7.465758323669434\n",
            "epoch: 64 loss: 7.46573543548584\n",
            "epoch: 65 loss: 7.4657135009765625\n",
            "epoch: 66 loss: 7.465692520141602\n",
            "epoch: 67 loss: 7.465672492980957\n",
            "epoch: 68 loss: 7.4656524658203125\n",
            "epoch: 69 loss: 7.465633869171143\n",
            "epoch: 70 loss: 7.465615749359131\n",
            "epoch: 71 loss: 7.4655985832214355\n",
            "epoch: 72 loss: 7.465581893920898\n",
            "epoch: 73 loss: 7.465566158294678\n",
            "epoch: 74 loss: 7.465550422668457\n",
            "epoch: 75 loss: 7.465535640716553\n",
            "epoch: 76 loss: 7.465521812438965\n",
            "epoch: 77 loss: 7.465507507324219\n",
            "epoch: 78 loss: 7.465494155883789\n",
            "epoch: 79 loss: 7.465482234954834\n",
            "epoch: 80 loss: 7.465469837188721\n",
            "epoch: 81 loss: 7.465457916259766\n",
            "epoch: 82 loss: 7.465446949005127\n",
            "epoch: 83 loss: 7.4654364585876465\n",
            "epoch: 84 loss: 7.465425968170166\n",
            "epoch: 85 loss: 7.465415954589844\n",
            "epoch: 86 loss: 7.46540641784668\n",
            "epoch: 87 loss: 7.465397357940674\n",
            "epoch: 88 loss: 7.465388774871826\n",
            "epoch: 89 loss: 7.46537971496582\n",
            "epoch: 90 loss: 7.465372085571289\n",
            "epoch: 91 loss: 7.465363502502441\n",
            "epoch: 92 loss: 7.465356349945068\n",
            "epoch: 93 loss: 7.465348720550537\n",
            "epoch: 94 loss: 7.465342044830322\n",
            "epoch: 95 loss: 7.465335369110107\n",
            "epoch: 96 loss: 7.465329170227051\n",
            "epoch: 97 loss: 7.465322494506836\n",
            "epoch: 98 loss: 7.4653167724609375\n",
            "epoch: 99 loss: 7.465311050415039\n"
          ],
          "name": "stdout"
        }
      ]
    },
    {
      "cell_type": "code",
      "metadata": {
        "id": "E7qG7Y2Dl0km",
        "colab_type": "code",
        "colab": {
          "base_uri": "https://localhost:8080/",
          "height": 300
        },
        "outputId": "3fec536b-b49a-44f7-ed5c-72439d6e824e"
      },
      "source": [
        "plt.plot(range(epochs), losses)\n",
        "plt.ylabel('loss')\n",
        "plt.xlabel('epoch')"
      ],
      "execution_count": 11,
      "outputs": [
        {
          "output_type": "execute_result",
          "data": {
            "text/plain": [
              "Text(0.5, 0, 'epoch')"
            ]
          },
          "metadata": {
            "tags": []
          },
          "execution_count": 11
        },
        {
          "output_type": "display_data",
          "data": {
            "image/png": "[encoded data removed]",
            "text/plain": [
              "<Figure size 432x288 with 1 Axes>"
            ]
          },
          "metadata": {
            "tags": []
          }
        }
      ]
    },
    {
      "cell_type": "code",
      "metadata": {
        "id": "A2Y0JA1umm93",
        "colab_type": "code",
        "colab": {
          "base_uri": "https://localhost:8080/",
          "height": 269
        },
        "outputId": "327b3640-ad35-4632-ac69-2ccaa31d956f"
      },
      "source": [
        "plot_fill('trained_model')"
      ],
      "execution_count": 13,
      "outputs": [
        {
          "output_type": "display_data",
          "data": {
            "image/png": "[encoded data removed]",
            "text/plain": [
              "<Figure size 432x288 with 1 Axes>"
            ]
          },
          "metadata": {
            "tags": []
          }
        }
      ]
    },
    {
      "cell_type": "code",
      "metadata": {
        "id": "dBFau0pWnETc",
        "colab_type": "code",
        "colab": {}
      },
      "source": [
        ""
      ],
      "execution_count": 0,
      "outputs": []
    }
  ]
}