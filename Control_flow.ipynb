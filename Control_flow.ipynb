{
 "cells": [
  {
   "cell_type": "code",
   "execution_count": 1,
   "metadata": {},
   "outputs": [],
   "source": [
    "grocery_items = {'bananas': 1.29, 'apples': 1.99}"
   ]
  },
  {
   "cell_type": "code",
   "execution_count": 2,
   "metadata": {},
   "outputs": [
    {
     "name": "stdout",
     "output_type": "stream",
     "text": [
      "Too expensive for inventory\n"
     ]
    }
   ],
   "source": [
    "item, price = 'rutabagas', 3\n",
    "if item in grocery_items:\n",
    "    print(item,'found')\n",
    "\n",
    "elif price > 2.99:\n",
    "    print('Too expensive for inventory')\n",
    "\n",
    "else:\n",
    "    print(item,'not found')\n",
    "    grocery_items.update({item: price})\n",
    "    print('Just added the item, here is the updated grocery list', grocery_items)"
   ]
  },
  {
   "cell_type": "code",
   "execution_count": 3,
   "metadata": {},
   "outputs": [
    {
     "name": "stdout",
     "output_type": "stream",
     "text": [
      "time to take a break\n"
     ]
    }
   ],
   "source": [
    "daytime = 'noon'\n",
    "\n",
    "if daytime == 'dawn':\n",
    "    print('still asleep')\n",
    "elif daytime == 'morning':\n",
    "    print('time to go to work')\n",
    "elif daytime == 'noon':\n",
    "    print('time to take a break')\n",
    "elif daytime == 'afternoon':\n",
    "    print('time to go home')\n",
    "else:\n",
    "    print('time to go to sleep')"
   ]
  },
  {
   "cell_type": "code",
   "execution_count": 4,
   "metadata": {},
   "outputs": [
    {
     "name": "stdout",
     "output_type": "stream",
     "text": [
      "flow regime is transitional\n"
     ]
    }
   ],
   "source": [
    "reynolds_number = 5000\n",
    "\n",
    "if 2000 < reynolds_number < 10000:\n",
    "    print('flow regime is transitional')"
   ]
  },
  {
   "cell_type": "code",
   "execution_count": 5,
   "metadata": {},
   "outputs": [
    {
     "name": "stdout",
     "output_type": "stream",
     "text": [
      "flow is transitional\n"
     ]
    }
   ],
   "source": [
    "if reynolds_number > 2000 and reynolds_number < 10000:\n",
    "    print('flow is transitional')"
   ]
  },
  {
   "cell_type": "code",
   "execution_count": 6,
   "metadata": {},
   "outputs": [
    {
     "name": "stdout",
     "output_type": "stream",
     "text": [
      "flow is transitional\n"
     ]
    }
   ],
   "source": [
    "if reynolds_number > 2000 or reynolds_number < 10000:\n",
    "    print('flow is transitional')"
   ]
  },
  {
   "cell_type": "code",
   "execution_count": 7,
   "metadata": {},
   "outputs": [
    {
     "name": "stdout",
     "output_type": "stream",
     "text": [
      "jan\n",
      "feb\n",
      "mar\n",
      "april\n"
     ]
    }
   ],
   "source": [
    "months = ['jan', 'feb', 'mar', 'april']\n",
    "\n",
    "for month in months:\n",
    "    print(month)"
   ]
  },
  {
   "cell_type": "code",
   "execution_count": 8,
   "metadata": {},
   "outputs": [
    {
     "name": "stdout",
     "output_type": "stream",
     "text": [
      "0\n",
      "1\n",
      "2\n",
      "3\n",
      "4\n",
      "5\n",
      "6\n",
      "7\n",
      "8\n",
      "9\n"
     ]
    }
   ],
   "source": [
    "for num in range(0,10):\n",
    "    print(num)"
   ]
  },
  {
   "cell_type": "code",
   "execution_count": 9,
   "metadata": {},
   "outputs": [
    {
     "name": "stdout",
     "output_type": "stream",
     "text": [
      "['Param', 'Meha', 'Preyaa', 'Yuvan']\n"
     ]
    }
   ],
   "source": [
    "names = ['param', 'meha', 'preyaa', 'yuvan']\n",
    "\n",
    "for index in range(len(names)):\n",
    "    names[index] = names[index].title()\n",
    "print(names)"
   ]
  },
  {
   "cell_type": "code",
   "execution_count": 10,
   "metadata": {},
   "outputs": [],
   "source": [
    "movies = {'titanic': 1997, 'finding nemo': 2003}"
   ]
  },
  {
   "cell_type": "code",
   "execution_count": 11,
   "metadata": {},
   "outputs": [
    {
     "name": "stdout",
     "output_type": "stream",
     "text": [
      "The movie Titanic, was made in 1997\n",
      "The movie Finding Nemo, was made in 2003\n"
     ]
    }
   ],
   "source": [
    "for (key, value) in movies.items():\n",
    "    key = key.title()\n",
    "    print('The movie {}, was made in {}'.format(key, value))"
   ]
  },
  {
   "cell_type": "code",
   "execution_count": 14,
   "metadata": {},
   "outputs": [
    {
     "name": "stdout",
     "output_type": "stream",
     "text": [
      "20\n",
      "21\n",
      "22\n",
      "23\n",
      "24\n",
      "25\n",
      "26\n",
      "27\n",
      "28\n",
      "29\n"
     ]
    }
   ],
   "source": [
    "random_number = 20\n",
    "while random_number < 30:\n",
    "    print(random_number)\n",
    "    random_number += 1\n",
    "    "
   ]
  },
  {
   "cell_type": "code",
   "execution_count": 18,
   "metadata": {},
   "outputs": [
    {
     "data": {
      "text/plain": [
       "[0, 1, 2, 3, 4, 5, 6, 7, 8, 9]"
      ]
     },
     "execution_count": 18,
     "metadata": {},
     "output_type": "execute_result"
    }
   ],
   "source": [
    "numbers = list(range(0,10))\n",
    "numbers"
   ]
  },
  {
   "cell_type": "code",
   "execution_count": 21,
   "metadata": {},
   "outputs": [
    {
     "name": "stdout",
     "output_type": "stream",
     "text": [
      "0\n",
      "2\n",
      "4\n",
      "6\n",
      "8\n"
     ]
    }
   ],
   "source": [
    "for num in numbers:\n",
    "    if num%2 != 0:\n",
    "        continue\n",
    "    print(num)"
   ]
  },
  {
   "cell_type": "code",
   "execution_count": 30,
   "metadata": {},
   "outputs": [],
   "source": [
    "def rectangle_area(length, width):\n",
    "    \"\"\" Calculates area of our rectangle \"\"\"\n",
    "    return length*width"
   ]
  },
  {
   "cell_type": "code",
   "execution_count": 28,
   "metadata": {},
   "outputs": [
    {
     "name": "stdout",
     "output_type": "stream",
     "text": [
      "6\n"
     ]
    }
   ],
   "source": [
    "area = rectangle_area(2,3)\n",
    "print(area)"
   ]
  },
  {
   "cell_type": "code",
   "execution_count": 35,
   "metadata": {},
   "outputs": [
    {
     "name": "stdout",
     "output_type": "stream",
     "text": [
      "[2, 4]\n"
     ]
    }
   ],
   "source": [
    "numbers = [1,2,3,4,5]\n",
    "\n",
    "# def even_odd(number):\n",
    "#     return number%2 == 0\n",
    "\n",
    "print(list(filter(lambda number: number%2 == 0, numbers)))"
   ]
  },
  {
   "cell_type": "code",
   "execution_count": null,
   "metadata": {},
   "outputs": [],
   "source": []
  }
 ],
 "metadata": {
  "kernelspec": {
   "display_name": "Python 3",
   "language": "python",
   "name": "python3"
  },
  "language_info": {
   "codemirror_mode": {
    "name": "ipython",
    "version": 3
   },
   "file_extension": ".py",
   "mimetype": "text/x-python",
   "name": "python",
   "nbconvert_exporter": "python",
   "pygments_lexer": "ipython3",
   "version": "3.7.3"
  }
 },
 "nbformat": 4,
 "nbformat_minor": 2
}
