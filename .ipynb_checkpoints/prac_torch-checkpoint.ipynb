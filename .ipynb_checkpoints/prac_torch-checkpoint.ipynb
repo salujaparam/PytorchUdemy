{
 "cells": [
  {
   "cell_type": "code",
   "execution_count": 1,
   "metadata": {},
   "outputs": [],
   "source": [
    "import torch"
   ]
  },
  {
   "cell_type": "code",
   "execution_count": 2,
   "metadata": {},
   "outputs": [
    {
     "name": "stdout",
     "output_type": "stream",
     "text": [
      "tensor([2, 2, 1])\n"
     ]
    }
   ],
   "source": [
    "a = torch.tensor([2,2,1])\n",
    "print(a)"
   ]
  },
  {
   "cell_type": "code",
   "execution_count": 3,
   "metadata": {},
   "outputs": [
    {
     "name": "stdout",
     "output_type": "stream",
     "text": [
      "tensor([[2, 1, 4],\n",
      "        [3, 5, 4],\n",
      "        [1, 2, 0],\n",
      "        [4, 3, 2]])\n"
     ]
    }
   ],
   "source": [
    "b = torch.tensor([[2,1,4], [3,5,4], [1,2,0], [4,3,2]])\n",
    "print(b)"
   ]
  },
  {
   "cell_type": "code",
   "execution_count": 4,
   "metadata": {},
   "outputs": [
    {
     "name": "stdout",
     "output_type": "stream",
     "text": [
      "torch.Size([3])\n",
      "torch.Size([4, 3])\n",
      "torch.Size([3])\n",
      "torch.Size([4, 3])\n"
     ]
    }
   ],
   "source": [
    "print(a.shape)\n",
    "print(b.shape)\n",
    "print(a.size())\n",
    "print(b.size())"
   ]
  },
  {
   "cell_type": "code",
   "execution_count": 5,
   "metadata": {},
   "outputs": [
    {
     "name": "stdout",
     "output_type": "stream",
     "text": [
      "4\n"
     ]
    }
   ],
   "source": [
    "print(b.shape[0])"
   ]
  },
  {
   "cell_type": "code",
   "execution_count": 10,
   "metadata": {},
   "outputs": [
    {
     "name": "stdout",
     "output_type": "stream",
     "text": [
      "tensor([[2., 1., 4.],\n",
      "        [3., 5., 4.],\n",
      "        [1., 2., 0.],\n",
      "        [4., 3., 2.]])\n",
      "torch.float32\n"
     ]
    }
   ],
   "source": [
    "c = torch.FloatTensor([[2,1,4], [3,5,4], [1,2,0], [4,3,2]])\n",
    "# c = torch.tensor([2,2,1], dtype=torch.float)\n",
    "print(c)\n",
    "print(c.dtype)"
   ]
  },
  {
   "cell_type": "code",
   "execution_count": 11,
   "metadata": {},
   "outputs": [
    {
     "name": "stdout",
     "output_type": "stream",
     "text": [
      "tensor([[2., 1., 4.],\n",
      "        [3., 5., 4.],\n",
      "        [1., 2., 0.],\n",
      "        [4., 3., 2.]], dtype=torch.float64)\n",
      "torch.float64\n"
     ]
    }
   ],
   "source": [
    "d = torch.DoubleTensor([[2,1,4], [3,5,4], [1,2,0], [4,3,2]])\n",
    "# d = torch.tensor([2,2,1], dtype=torch.float)\n",
    "print(d)\n",
    "print(d.dtype)"
   ]
  },
  {
   "cell_type": "code",
   "execution_count": 12,
   "metadata": {},
   "outputs": [
    {
     "name": "stdout",
     "output_type": "stream",
     "text": [
      "tensor(2.5833)\n"
     ]
    }
   ],
   "source": [
    "print(c.mean())"
   ]
  },
  {
   "cell_type": "code",
   "execution_count": 13,
   "metadata": {},
   "outputs": [
    {
     "name": "stdout",
     "output_type": "stream",
     "text": [
      "tensor(2.5833, dtype=torch.float64)\n"
     ]
    }
   ],
   "source": [
    "print(d.mean())"
   ]
  },
  {
   "cell_type": "code",
   "execution_count": 14,
   "metadata": {},
   "outputs": [
    {
     "name": "stdout",
     "output_type": "stream",
     "text": [
      "tensor(1.5050)\n"
     ]
    }
   ],
   "source": [
    "print(c.std())"
   ]
  },
  {
   "cell_type": "code",
   "execution_count": 15,
   "metadata": {},
   "outputs": [
    {
     "name": "stdout",
     "output_type": "stream",
     "text": [
      "tensor(1.5050, dtype=torch.float64)\n"
     ]
    }
   ],
   "source": [
    "print(d.std())"
   ]
  },
  {
   "cell_type": "code",
   "execution_count": 19,
   "metadata": {},
   "outputs": [
    {
     "name": "stdout",
     "output_type": "stream",
     "text": [
      "tensor([[2],\n",
      "        [1],\n",
      "        [4],\n",
      "        [3],\n",
      "        [5],\n",
      "        [4],\n",
      "        [1],\n",
      "        [2],\n",
      "        [0],\n",
      "        [4],\n",
      "        [3],\n",
      "        [2]])\n",
      "tensor([2, 1, 4, 3, 5, 4, 1, 2, 0, 4, 3, 2])\n",
      "tensor([[2, 1, 4, 3],\n",
      "        [5, 4, 1, 2],\n",
      "        [0, 4, 3, 2]])\n",
      "tensor([[2, 1, 4, 3],\n",
      "        [5, 4, 1, 2],\n",
      "        [0, 4, 3, 2]])\n",
      "tensor([[2, 1, 4, 3, 5, 4, 1, 2, 0, 4, 3, 2]])\n",
      "torch.Size([1, 12])\n",
      "\n",
      "\n",
      "\n",
      "\n",
      "tensor([[[-0.5268, -1.5068, -2.0267, -0.3695],\n",
      "         [-0.2891, -0.6163,  0.6173, -0.3334],\n",
      "         [-1.0787, -0.5719,  0.2101,  0.0461]],\n",
      "\n",
      "        [[-1.0890, -0.4145,  0.2066,  0.4825],\n",
      "         [-0.1567, -1.7962,  1.7151, -0.0273],\n",
      "         [-0.0406,  0.8359, -0.4480, -0.3116]]])\n",
      "tensor([[-0.5268, -1.5068, -2.0267, -0.3695, -0.2891, -0.6163,  0.6173, -0.3334,\n",
      "         -1.0787, -0.5719,  0.2101,  0.0461],\n",
      "        [-1.0890, -0.4145,  0.2066,  0.4825, -0.1567, -1.7962,  1.7151, -0.0273,\n",
      "         -0.0406,  0.8359, -0.4480, -0.3116]])\n",
      "tensor([[-0.5268, -1.5068, -2.0267, -0.3695, -0.2891, -0.6163,  0.6173, -0.3334,\n",
      "         -1.0787, -0.5719,  0.2101,  0.0461],\n",
      "        [-1.0890, -0.4145,  0.2066,  0.4825, -0.1567, -1.7962,  1.7151, -0.0273,\n",
      "         -0.0406,  0.8359, -0.4480, -0.3116]])\n"
     ]
    }
   ],
   "source": [
    "print(b.view(-1,1))\n",
    "print(b.view(12))\n",
    "print(b.view(-1,4))\n",
    "print(b.view(3,4))\n",
    "b = b.view(1,-1)\n",
    "print(b)\n",
    "print(b.shape)\n",
    "print('\\n')\n",
    "three_dim = torch.randn(2,3,4)\n",
    "print('\\n')\n",
    "print(three_dim)\n",
    "print(three_dim.view(2,12))\n",
    "print(three_dim.view(2,-1))"
   ]
  },
  {
   "cell_type": "code",
   "execution_count": 20,
   "metadata": {},
   "outputs": [
    {
     "name": "stdout",
     "output_type": "stream",
     "text": [
      "tensor([[0.6441, 0.5352, 0.7710, 0.1825],\n",
      "        [0.5831, 0.9185, 0.5176, 0.9313],\n",
      "        [0.8371, 0.6656, 0.6970, 0.4161],\n",
      "        [0.2532, 0.7821, 0.2293, 0.7367]])\n",
      "torch.float32\n"
     ]
    }
   ],
   "source": [
    "r = torch.rand(4,4)\n",
    "print(r)\n",
    "print(r.dtype)"
   ]
  },
  {
   "cell_type": "code",
   "execution_count": 17,
   "metadata": {},
   "outputs": [
    {
     "name": "stdout",
     "output_type": "stream",
     "text": [
      "tensor([[-0.2187,  0.9119, -2.0165, -0.7822],\n",
      "        [ 0.0585, -1.4622, -0.1620,  0.7571],\n",
      "        [ 1.2238, -0.6652, -1.1629, -0.8949],\n",
      "        [ 0.1409, -0.3662, -1.3526, -1.1561]])\n",
      "torch.float32\n"
     ]
    }
   ],
   "source": [
    "r2= torch.randn(4,4)\n",
    "print(r2)\n",
    "print(r2.dtype)"
   ]
  },
  {
   "cell_type": "code",
   "execution_count": 23,
   "metadata": {},
   "outputs": [
    {
     "name": "stdout",
     "output_type": "stream",
     "text": [
      "tensor([9, 9, 8, 6, 6])\n",
      "torch.int64\n"
     ]
    }
   ],
   "source": [
    "in_array = torch.randint(6,10, (5,))\n",
    "print(in_array)\n",
    "print(in_array.dtype)"
   ]
  },
  {
   "cell_type": "code",
   "execution_count": 24,
   "metadata": {},
   "outputs": [
    {
     "name": "stdout",
     "output_type": "stream",
     "text": [
      "tensor([[8, 9, 6],\n",
      "        [8, 8, 6],\n",
      "        [9, 6, 6]])\n",
      "torch.int64\n"
     ]
    }
   ],
   "source": [
    "in_array2 = torch.randint(6,10, (3,3))\n",
    "print(in_array2)\n",
    "print(in_array2.dtype)"
   ]
  },
  {
   "cell_type": "code",
   "execution_count": 25,
   "metadata": {},
   "outputs": [
    {
     "name": "stdout",
     "output_type": "stream",
     "text": [
      "5\n",
      "9\n"
     ]
    }
   ],
   "source": [
    "print(torch.numel(in_array))\n",
    "print(torch.numel(in_array2))"
   ]
  },
  {
   "cell_type": "code",
   "execution_count": 27,
   "metadata": {},
   "outputs": [
    {
     "name": "stdout",
     "output_type": "stream",
     "text": [
      "tensor([[0, 0, 0],\n",
      "        [0, 0, 0],\n",
      "        [0, 0, 0]])\n",
      "torch.int64\n",
      "tensor([[1., 1., 1.],\n",
      "        [1., 1., 1.],\n",
      "        [1., 1., 1.]])\n",
      "torch.float32\n"
     ]
    }
   ],
   "source": [
    "z = torch.zeros(3,3, dtype=torch.long)\n",
    "print(z)\n",
    "print(z.dtype)\n",
    "o = torch.ones(3,3)\n",
    "print(o)\n",
    "print(o.dtype)"
   ]
  },
  {
   "cell_type": "code",
   "execution_count": 28,
   "metadata": {},
   "outputs": [
    {
     "name": "stdout",
     "output_type": "stream",
     "text": [
      "tensor([[-0.9166, -0.1319, -0.5769, -0.2210],\n",
      "        [ 0.5583, -0.5191, -0.7936, -0.5360],\n",
      "        [-0.4278, -0.6863,  1.0652, -0.3673],\n",
      "        [ 1.4256, -1.2031,  1.2866, -0.8248]], dtype=torch.float64)\n"
     ]
    }
   ],
   "source": [
    "r2_like = torch.randn_like(r2, dtype=torch.double)\n",
    "print(r2_like)"
   ]
  },
  {
   "cell_type": "code",
   "execution_count": 32,
   "metadata": {},
   "outputs": [
    {
     "name": "stdout",
     "output_type": "stream",
     "text": [
      "tensor([[ 4.2539e-01,  1.4470e+00, -1.2455e+00, -5.9966e-01],\n",
      "        [ 6.4164e-01, -5.4366e-01,  3.5558e-01,  1.6884e+00],\n",
      "        [ 2.0609e+00,  4.0066e-04, -4.6589e-01, -4.7885e-01],\n",
      "        [ 3.9402e-01,  4.1597e-01, -1.1233e+00, -4.1937e-01]])\n"
     ]
    }
   ],
   "source": [
    "add_result = torch.add(r,r2)\n",
    "print(add_result)"
   ]
  },
  {
   "cell_type": "code",
   "execution_count": 33,
   "metadata": {},
   "outputs": [
    {
     "name": "stdout",
     "output_type": "stream",
     "text": [
      "tensor([[-0.2187,  0.9119, -2.0165, -0.7822],\n",
      "        [ 0.0585, -1.4622, -0.1620,  0.7571],\n",
      "        [ 1.2238, -0.6652, -1.1629, -0.8949],\n",
      "        [ 0.1409, -0.3662, -1.3526, -1.1561]])\n"
     ]
    }
   ],
   "source": [
    "r2.add(r)\n",
    "print(r2)"
   ]
  },
  {
   "cell_type": "code",
   "execution_count": 31,
   "metadata": {},
   "outputs": [
    {
     "name": "stdout",
     "output_type": "stream",
     "text": [
      "tensor([ 0.9119, -1.4622, -0.6652, -0.3662])\n",
      "tensor([[-0.2187,  0.9119],\n",
      "        [ 0.0585, -1.4622],\n",
      "        [ 1.2238, -0.6652],\n",
      "        [ 0.1409, -0.3662]])\n",
      "tensor([[-0.2187,  0.9119, -2.0165, -0.7822],\n",
      "        [ 0.0585, -1.4622, -0.1620,  0.7571],\n",
      "        [ 1.2238, -0.6652, -1.1629, -0.8949]])\n",
      "tensor(-0.8949)\n",
      "-0.8949378728866577\n",
      "tensor([ 1.2238, -0.6652, -1.1629, -0.8949])\n"
     ]
    }
   ],
   "source": [
    "print(r2[:,1])\n",
    "print(r2[:,:2])\n",
    "print(r2[:3,:])\n",
    "num_ten = r2[2,3]\n",
    "print(num_ten)\n",
    "print(num_ten.item())\n",
    "print(r2[2,:])"
   ]
  },
  {
   "cell_type": "code",
   "execution_count": null,
   "metadata": {},
   "outputs": [],
   "source": []
  }
 ],
 "metadata": {
  "kernelspec": {
   "display_name": "Python 3",
   "language": "python",
   "name": "python3"
  },
  "language_info": {
   "codemirror_mode": {
    "name": "ipython",
    "version": 3
   },
   "file_extension": ".py",
   "mimetype": "text/x-python",
   "name": "python",
   "nbconvert_exporter": "python",
   "pygments_lexer": "ipython3",
   "version": "3.7.3"
  }
 },
 "nbformat": 4,
 "nbformat_minor": 2
}
